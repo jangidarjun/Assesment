{
 "cells": [
  {
   "cell_type": "markdown",
   "id": "f4e8b232-8a50-4c84-b502-7395eaa4f3a7",
   "metadata": {},
   "source": [
    "# Data Science Tools and Ecosystem"
   ]
  },
  {
   "cell_type": "markdown",
   "id": "f9deb807-4511-4963-a37e-a4fbe77ccffe",
   "metadata": {},
   "source": [
    "## Author: Arjun Jangid"
   ]
  },
  {
   "cell_type": "markdown",
   "id": "6e30c525-bec2-497f-a476-43f409b8e753",
   "metadata": {},
   "source": [
    "In this notebook, Data Science Tools and Ecosystems are summarized."
   ]
  },
  {
   "cell_type": "markdown",
   "id": "27da502e-ae5a-417b-abc0-682758749279",
   "metadata": {},
   "source": [
    "**Objectives:**\n",
    "* Identify popular data science languages\n",
    "* Identify commonly used data science libraries\n",
    "* Outline chart design functions in Jupyter Notebook\n",
    "* Arithmetic expression using Python"
   ]
  },
  {
   "cell_type": "markdown",
   "id": "7fa1daa8-8cd9-4e0e-be01-1d813c316ae2",
   "metadata": {},
   "source": [
    "Some of the popular languages that data scientists use are:\n",
    "1. Python\n",
    "2. SQL\n",
    "3. R\n"
   ]
  },
  {
   "cell_type": "markdown",
   "id": "cd36f1fa-b29d-4a88-b91d-a885b6de239e",
   "metadata": {},
   "source": [
    "Some of the commonly used libraries used by Data Scientists include:\n",
    "1. NumPy\n",
    "2. Pandas\n",
    "3. TensorFlow"
   ]
  },
  {
   "cell_type": "markdown",
   "id": "24ab4836-b9c7-4460-8b69-ed0e7fd381df",
   "metadata": {},
   "source": [
    "|Data Science Tools|\n",
    "|------------------|\n",
    "|Jupyter Notebook|\n",
    "|RStudio|\n",
    "|Anaconda|\n"
   ]
  },
  {
   "cell_type": "markdown",
   "id": "89bd0c8f-e0fd-4fb4-a61f-5efd10a72b27",
   "metadata": {},
   "source": [
    "### Below are a few examples of evaluating arithmetic expressions in Python"
   ]
  },
  {
   "cell_type": "markdown",
   "id": "8756b051-1e48-4188-8384-ffbd6ed3ac5f",
   "metadata": {
    "tags": []
   },
   "source": [
    "This a simple arithmetic expression to multiply then add integers:"
   ]
  },
  {
   "cell_type": "code",
   "execution_count": 1,
   "id": "707b00f3-5818-4152-83bc-f148574ed90f",
   "metadata": {
    "tags": []
   },
   "outputs": [
    {
     "data": {
      "text/plain": [
       "17"
      ]
     },
     "execution_count": 1,
     "metadata": {},
     "output_type": "execute_result"
    }
   ],
   "source": [
    "(3*4)+5"
   ]
  },
  {
   "cell_type": "markdown",
   "id": "b11937fa-bac0-4d98-8517-6e05e4d4cf3a",
   "metadata": {},
   "source": [
    "This will convert 200 minutes to hours by dividing by 60:"
   ]
  },
  {
   "cell_type": "code",
   "execution_count": 4,
   "id": "166cbf88-4760-41a0-a8e6-a83d82291393",
   "metadata": {
    "tags": []
   },
   "outputs": [
    {
     "data": {
      "text/plain": [
       "3.3333333333333335"
      ]
     },
     "execution_count": 4,
     "metadata": {},
     "output_type": "execute_result"
    }
   ],
   "source": [
    "200/60"
   ]
  }
 ],
 "metadata": {
  "kernelspec": {
   "display_name": "Python",
   "language": "python",
   "name": "conda-env-python-py"
  },
  "language_info": {
   "codemirror_mode": {
    "name": "ipython",
    "version": 3
   },
   "file_extension": ".py",
   "mimetype": "text/x-python",
   "name": "python",
   "nbconvert_exporter": "python",
   "pygments_lexer": "ipython3",
   "version": "3.7.12"
  }
 },
 "nbformat": 4,
 "nbformat_minor": 5
}
